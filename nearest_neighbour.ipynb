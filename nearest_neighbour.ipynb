{
 "cells": [
  {
   "cell_type": "markdown",
   "metadata": {},
   "source": [
    "# we need a fast NN algo for searching embedding space\n",
    "\n",
    "so we test!"
   ]
  },
  {
   "cell_type": "code",
   "execution_count": 1,
   "metadata": {},
   "outputs": [
    {
     "name": "stderr",
     "output_type": "stream",
     "text": [
      "OMP: Info #276: omp_set_nested routine deprecated, please use omp_set_max_active_levels instead.\n"
     ]
    }
   ],
   "source": [
    "import torch\n",
    "from pynndescent import NNDescent\n",
    "import time\n",
    "\n",
    "W_E = torch.randn((1000, 896), requires_grad=False)\n",
    "index = NNDescent(W_E)\n",
    "index.prepare()\n",
    "\n",
    "\n"
   ]
  },
  {
   "cell_type": "code",
   "execution_count": 3,
   "metadata": {},
   "outputs": [
    {
     "data": {
      "text/plain": [
       "array([[100, 414, 772],\n",
       "       [200, 341, 769],\n",
       "       [341,  77, 851]], dtype=int32)"
      ]
     },
     "metadata": {},
     "output_type": "display_data"
    },
    {
     "data": {
      "text/plain": [
       "array([[40.257603, 40.323463, 40.52182 ],\n",
       "       [38.149002, 38.591843, 39.063892],\n",
       "       [39.64547 , 39.984737, 40.41433 ]], dtype=float32)"
      ]
     },
     "metadata": {},
     "output_type": "display_data"
    }
   ],
   "source": [
    "q = torch.randn((3, 896), requires_grad=False)\n",
    "# make a qury\n",
    "ind, dist = index.query(q, k=3)\n",
    "display(ind)\n",
    "display(dist)"
   ]
  },
  {
   "cell_type": "code",
   "execution_count": null,
   "metadata": {},
   "outputs": [],
   "source": [
    "device = \"mps\"\n",
    "\n",
    "def nearest_neighbour_loss(x, index, W_E):\n",
    "\n",
    "    # x should be of shape (N, 896)\n",
    "    ind, dist = index.query(x.detach(), k=3)\n",
    "    # get the first column of index\n",
    "    ind = ind[:, 0].flatten()\n",
    "    # we then form another matrix, with the nearest neighbors\n",
    "    # concretely, we concatenate W_E[i] for i in ind\n",
    "    nearest_neighbour = W_E[ind].detach().to(device)\n",
    "    # we then calculate the distance between x and nearest_neighbour for each row in both\n",
    "    distance = torch.norm(x - nearest_neighbour, p=2, dim=1)\n",
    "    return torch.sum(distance)"
   ]
  }
 ],
 "metadata": {
  "kernelspec": {
   "display_name": "venv",
   "language": "python",
   "name": "python3"
  },
  "language_info": {
   "codemirror_mode": {
    "name": "ipython",
    "version": 3
   },
   "file_extension": ".py",
   "mimetype": "text/x-python",
   "name": "python",
   "nbconvert_exporter": "python",
   "pygments_lexer": "ipython3",
   "version": "3.11.9"
  }
 },
 "nbformat": 4,
 "nbformat_minor": 2
}
